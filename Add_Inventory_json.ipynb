{
  "nbformat": 4,
  "nbformat_minor": 0,
  "metadata": {
    "colab": {
      "name": "Add Inventory json.ipynb",
      "provenance": []
    },
    "kernelspec": {
      "name": "python3",
      "display_name": "Python 3"
    },
    "language_info": {
      "name": "python"
    }
  },
  "cells": [
    {
      "cell_type": "code",
      "metadata": {
        "id": "hCuYmyXA_OxW"
      },
      "source": [
        "records={5002001:{\"Name\":\"Parle-G\",\"Net_Weight\":\"100g\",\"Batch_no\":\"16 B B\",\"Flavour\":\"mildly sweet and malty\",\"Manufacturer\":\"Parle\",\"MRP\":10,\"Quantity\":6,\"Ingredient_type\":\"vegetarian\",\"Manufacture_Date\":\"16/7/21\",\"Expiry_Date\":\"16/1/22\"},\n",
        "5002002:{\"Name\":\"Dairy Milk\",\"Net_Weight\":\"24.3g\",\"Batch_no\":\"A 51 C\",\"Flavour\":\"chocolate\",\"Manufacturer\":\"Cadbury\",\"MRP\":20,\"Quantity\":50,\"Ingredient_type\":\"vegetarian\",\"Manufacture_Date\":\"2/3/21\",\"Expiry_Date\":\"3/7/21\"},\n",
        "5002003:{\"Name\":\"Maggie\",\"Net_Weight\":\"70g\",\"Batch_no\":\"12GMA5\",\"Flavour\":\"Masala\",\"Manufacturer\":\"Maggie\",\"MRP\":12,\"Quantity\":23,\"Ingredient_type\":\"vegetarian\",\"Manufacture_Date\":\"5/8/21\",\"Expiry_Date\":\"4/12/21\"},\n",
        "5002004:{\"Name\":\"One One instant noodles\",\"Net_Weight\":\"100g\",\"Batch_no\":\"GM210805A\",\"Flavour\":\"Masala\",\"Manufacturer\":\"Goldiee\",\"MRP\":10,\"Quantity\":18,\"Ingredient_type\":\"vegetarian\",\"Manufacture_Date\":\"12/4/21\",\"Expiry_Date\":\"13/11/21\"},\n",
        "5002005:{\"Name\":\"Puliogare Powder\",\"Net_Weight\":\"100g\",\"Batch_no\":\"890A12\",\"Flavour\":\"Tamarind\",\"Manufacturer\":\"MTR\",\"MRP\":60,\"Quantity\":4,\"Ingredient_type\":\"vegetarian\",\"Manufacture_Date\":\"20/6/21\",\"Expiry_Date\":\"20/6/22\"},\n",
        "5002006:{\"Name\":\"Lux soap\",\"Net_Weight\":\"100g\",\"Batch_no\":\"L9A22\",\"Flavour\":\"Rose\",\"Manufacturer\":\"Unilever global company\",\"MRP\":\"23\",\"Quantity\":45,\"Ingredient_type\":\"vegetarian\",\"Manufacture_Date\":\"7/2/21\",\"Expiry_Date\":\"6/8/23\"},\n",
        "5002007:{\"Name\":\"Aashirvaad Atta\",\"Net_Weight\":\"10kg\",\"Batch_no\":\"AS12H8\",\"Flavour\":\"W\",\"Manufacturer\":\"ITC Ltd\",\"MRP\":490,\"Quantity\":30,\"Ingredient_type\":\"vegetarian\",\"Manufacture_Date\":\"3/5/21\",\"Expiry_Date\":\"4/8/21\"},\n",
        "5002008:{\"Name\":\"Good Night Mosquito Coil\",\"Net_Weight\":\"10 N\",\"Batch_no\":\"B116\",\"Flavour\":\"Lavener Jasmine\",\"Manufacturer\":\"Goorej\",\"MRP\":26,\"Quantity\":41,\"Ingredient_type\":\"vegetarian\",\"Manufacture_Date\":\"21/5/21\",\"Expiry_Date\":\"2/2/22\"},\n",
        "5002009:{\"Name\":\"Ginger Garlic Paste\",\"Net_Weight\":\"200g\",\"Batch_no\":\"RRL2028\",\"Flavour\":\"Ginger Garlic\",\"Manufacturer\":\"Desi Kitchen\",\"MRP\":58,\"Quantity\":20,\"Ingredient_type\":\"vegetarian\",\"Manufacture_Date\":\"28/1/21\",\"Expiry_Date\":\"15/4/21\"},\n",
        "5002010:{\"Name\":\"Sugar\",\"Net_Weight\":\"1kg\",\"Batch_no\":\"B-03/A\",\"Flavour\":\"Almond\",\"Manufacturer\":\"Uttam sugar\",\"MRP\":60,\"Quantity\":10,\"Ingredient_type\":\"vegetarian\",\"Manufacture_Date\":\"26/09/20\",\"Expiry_Date\":\"27/08/21\"},\n",
        "5002011:{\"Name\":\"Oxylife creme bleach\",\"Net_Weight\":\"270g\",\"Batch_no\":\"BMO731\",\"Flavor\":\"creme\",\"Manufacturer\":\"Dabur Research\",\"MRP\":82,\"Quantity\":30,\"Ingredient_type\":\"Mineral Extract\",\"Manufacture_Date\": \"4/2/21\",\"Expiry_Date\":\"1/2/23\"},\n",
        "5002012:{\"Name\":\"Vescare\",\"Net_Weight\":\"50g\",\"Batch_no\":\"V0N32\",\"Flavour\":\"Ayurvedic\",\"Manufacturer\":\"Vestige\",\"MRP\":150,\"Quantity\":35,\"Ingredient_type\":\"Ayurbedic\",\"Manufacture_Date\":\"10/5/21\",\"Expiry_Date\":\"23/5/23\"},\n",
        "5002013:{\"Name\":\"I-Shakthi Iodised salt\",\"Net_Weight\":\"1kg\",\"Batch_no\":\"05\",\"Flavour\":\"iodised\",\"Manufacturer\":\"TATA\",\"MRP\":17,\"Quantity\":23,\"Ingredient_type\":\"vegetarian\",\"Manfacture_Date\":\"12/6/2021\",\"Expiry_Date\":\"29/4/2022\"},\n",
        "5002014:{\"Name\":\"Turmeric Powder\",\"Net_Weight\":\"200g\",\"Batch_no\":\"T1M3\",\"Flavour\":\"Turmeric\",\"Manufacturer\":\"Catch\",\"MRP\":56,\"Quantity\":26,\"Ingredient_type\":\"vegetarian\",\"Manufacture_Date\":\"11/3/21\",\"Expiry_Date\":\"21/12/21\"}}\n"
      ],
      "execution_count": 30,
      "outputs": []
    },
    {
      "cell_type": "code",
      "metadata": {
        "colab": {
          "base_uri": "https://localhost:8080/"
        },
        "id": "94T374eiiK6a",
        "outputId": "51083ce9-83f6-499a-89ea-ac9182e4ebe0"
      },
      "source": [
        "records"
      ],
      "execution_count": 31,
      "outputs": [
        {
          "output_type": "execute_result",
          "data": {
            "text/plain": [
              "{5002001: {'Batch_no': '16 B B',\n",
              "  'Expiry_Date': '16/1/22',\n",
              "  'Flavour': 'mildly sweet and malty',\n",
              "  'Ingredient_type': 'vegetarian',\n",
              "  'MRP': 10,\n",
              "  'Manufacture_Date': '16/7/21',\n",
              "  'Manufacturer': 'Parle',\n",
              "  'Name': 'Parle-G',\n",
              "  'Net_Weight': '100g',\n",
              "  'Quantity': 6},\n",
              " 5002002: {'Batch_no': 'A 51 C',\n",
              "  'Expiry_Date': '3/7/21',\n",
              "  'Flavour': 'chocolate',\n",
              "  'Ingredient_type': 'vegetarian',\n",
              "  'MRP': 20,\n",
              "  'Manufacture_Date': '2/3/21',\n",
              "  'Manufacturer': 'Cadbury',\n",
              "  'Name': 'Dairy Milk',\n",
              "  'Net_Weight': '24.3g',\n",
              "  'Quantity': 50},\n",
              " 5002003: {'Batch_no': '12GMA5',\n",
              "  'Expiry_Date': '4/12/21',\n",
              "  'Flavour': 'Masala',\n",
              "  'Ingredient_type': 'vegetarian',\n",
              "  'MRP': 12,\n",
              "  'Manufacture_Date': '5/8/21',\n",
              "  'Manufacturer': 'Maggie',\n",
              "  'Name': 'Maggie',\n",
              "  'Net_Weight': '70g',\n",
              "  'Quantity': 23},\n",
              " 5002004: {'Batch_no': 'GM210805A',\n",
              "  'Expiry_Date': '13/11/21',\n",
              "  'Flavour': 'Masala',\n",
              "  'Ingredient_type': 'vegetarian',\n",
              "  'MRP': 10,\n",
              "  'Manufacture_Date': '12/4/21',\n",
              "  'Manufacturer': 'Goldiee',\n",
              "  'Name': 'One One instant noodles',\n",
              "  'Net_Weight': '100g',\n",
              "  'Quantity': 18},\n",
              " 5002005: {'Batch_no': '890A12',\n",
              "  'Expiry_Date': '20/6/22',\n",
              "  'Flavour': 'Tamarind',\n",
              "  'Ingredient_type': 'vegetarian',\n",
              "  'MRP': 60,\n",
              "  'Manufacture_Date': '20/6/21',\n",
              "  'Manufacturer': 'MTR',\n",
              "  'Name': 'Puliogare Powder',\n",
              "  'Net_Weight': '100g',\n",
              "  'Quantity': 4},\n",
              " 5002006: {'Batch_no': 'L9A22',\n",
              "  'Expiry_Date': '6/8/23',\n",
              "  'Flavour': 'Rose',\n",
              "  'Ingredient_type': 'vegetarian',\n",
              "  'MRP': '23',\n",
              "  'Manufacture_Date': '7/2/21',\n",
              "  'Manufacturer': 'Unilever global company',\n",
              "  'Name': 'Lux soap',\n",
              "  'Net_Weight': '100g',\n",
              "  'Quantity': 45},\n",
              " 5002007: {'Batch_no': 'AS12H8',\n",
              "  'Expiry_Date': '4/8/21',\n",
              "  'Flavour': 'W',\n",
              "  'Ingredient_type': 'vegetarian',\n",
              "  'MRP': 490,\n",
              "  'Manufacture_Date': '3/5/21',\n",
              "  'Manufacturer': 'ITC Ltd',\n",
              "  'Name': 'Aashirvaad Atta',\n",
              "  'Net_Weight': '10kg',\n",
              "  'Quantity': 30},\n",
              " 5002008: {'Batch_no': 'B116',\n",
              "  'Expiry_Date': '2/2/22',\n",
              "  'Flavour': 'Lavener Jasmine',\n",
              "  'Ingredient_type': 'vegetarian',\n",
              "  'MRP': 26,\n",
              "  'Manufacture_Date': '21/5/21',\n",
              "  'Manufacturer': 'Goorej',\n",
              "  'Name': 'Good Night Mosquito Coil',\n",
              "  'Net_Weight': '10 N',\n",
              "  'Quantity': 41},\n",
              " 5002009: {'Batch_no': 'RRL2028',\n",
              "  'Expiry_Date': '15/4/21',\n",
              "  'Flavour': 'Ginger Garlic',\n",
              "  'Ingredient_type': 'vegetarian',\n",
              "  'MRP': 58,\n",
              "  'Manufacture_Date': '28/1/21',\n",
              "  'Manufacturer': 'Desi Kitchen',\n",
              "  'Name': 'Ginger Garlic Paste',\n",
              "  'Net_Weight': '200g',\n",
              "  'Quantity': 20},\n",
              " 5002010: {'Batch_no': 'B-03/A',\n",
              "  'Expiry_Date': '27/08/21',\n",
              "  'Flavour': 'Almond',\n",
              "  'Ingredient_type': 'vegetarian',\n",
              "  'MRP': 60,\n",
              "  'Manufacture_Date': '26/09/20',\n",
              "  'Manufacturer': 'Uttam sugar',\n",
              "  'Name': 'Sugar',\n",
              "  'Net_Weight': '1kg',\n",
              "  'Quantity': 10},\n",
              " 5002011: {'Batch_no': 'BMO731',\n",
              "  'Expiry_Date': '1/2/23',\n",
              "  'Flavor': 'creme',\n",
              "  'Ingredient_type': 'Mineral Extract',\n",
              "  'MRP': 82,\n",
              "  'Manufacture_Date': '4/2/21',\n",
              "  'Manufacturer': 'Dabur Research',\n",
              "  'Name': 'Oxylife creme bleach',\n",
              "  'Net_Weight': '270g',\n",
              "  'Quantity': 30},\n",
              " 5002012: {'Batch_no': 'V0N32',\n",
              "  'Expiry_Date': '23/5/23',\n",
              "  'Flavour': 'Ayurvedic',\n",
              "  'Ingredient_type': 'Ayurbedic',\n",
              "  'MRP': 150,\n",
              "  'Manufacture_Date': '10/5/21',\n",
              "  'Manufacturer': 'Vestige',\n",
              "  'Name': 'Vescare',\n",
              "  'Net_Weight': '50g',\n",
              "  'Quantity': 35},\n",
              " 5002013: {'Batch_no': '05',\n",
              "  'Expiry_Date': '29/4/2022',\n",
              "  'Flavour': 'iodised',\n",
              "  'Ingredient_type': 'vegetarian',\n",
              "  'MRP': 17,\n",
              "  'Manfacture_Date': '12/6/2021',\n",
              "  'Manufacturer': 'TATA',\n",
              "  'Name': 'I-Shakthi Iodised salt',\n",
              "  'Net_Weight': '1kg',\n",
              "  'Quantity': 23},\n",
              " 5002014: {'Batch_no': 'T1M3',\n",
              "  'Expiry_Date': '21/12/21',\n",
              "  'Flavour': 'Turmeric',\n",
              "  'Ingredient_type': 'vegetarian',\n",
              "  'MRP': 56,\n",
              "  'Manufacture_Date': '11/3/21',\n",
              "  'Manufacturer': 'Catch',\n",
              "  'Name': 'Turmeric Powder',\n",
              "  'Net_Weight': '200g',\n",
              "  'Quantity': 26}}"
            ]
          },
          "metadata": {},
          "execution_count": 31
        }
      ]
    },
    {
      "cell_type": "code",
      "metadata": {
        "id": "H1Lf79VoiMOJ",
        "colab": {
          "base_uri": "https://localhost:8080/",
          "height": 171
        },
        "outputId": "4740f776-e1c3-4ba6-f53e-a8b6266fd7e8"
      },
      "source": [
        "import json\n",
        "js=json.dumps(records)\n",
        "js"
      ],
      "execution_count": 32,
      "outputs": [
        {
          "output_type": "execute_result",
          "data": {
            "application/vnd.google.colaboratory.intrinsic+json": {
              "type": "string"
            },
            "text/plain": [
              "'{\"5002001\": {\"Name\": \"Parle-G\", \"Net_Weight\": \"100g\", \"Batch_no\": \"16 B B\", \"Flavour\": \"mildly sweet and malty\", \"Manufacturer\": \"Parle\", \"MRP\": 10, \"Quantity\": 6, \"Ingredient_type\": \"vegetarian\", \"Manufacture_Date\": \"16/7/21\", \"Expiry_Date\": \"16/1/22\"}, \"5002002\": {\"Name\": \"Dairy Milk\", \"Net_Weight\": \"24.3g\", \"Batch_no\": \"A 51 C\", \"Flavour\": \"chocolate\", \"Manufacturer\": \"Cadbury\", \"MRP\": 20, \"Quantity\": 50, \"Ingredient_type\": \"vegetarian\", \"Manufacture_Date\": \"2/3/21\", \"Expiry_Date\": \"3/7/21\"}, \"5002003\": {\"Name\": \"Maggie\", \"Net_Weight\": \"70g\", \"Batch_no\": \"12GMA5\", \"Flavour\": \"Masala\", \"Manufacturer\": \"Maggie\", \"MRP\": 12, \"Quantity\": 23, \"Ingredient_type\": \"vegetarian\", \"Manufacture_Date\": \"5/8/21\", \"Expiry_Date\": \"4/12/21\"}, \"5002004\": {\"Name\": \"One One instant noodles\", \"Net_Weight\": \"100g\", \"Batch_no\": \"GM210805A\", \"Flavour\": \"Masala\", \"Manufacturer\": \"Goldiee\", \"MRP\": 10, \"Quantity\": 18, \"Ingredient_type\": \"vegetarian\", \"Manufacture_Date\": \"12/4/21\", \"Expiry_Date\": \"13/11/21\"}, \"5002005\": {\"Name\": \"Puliogare Powder\", \"Net_Weight\": \"100g\", \"Batch_no\": \"890A12\", \"Flavour\": \"Tamarind\", \"Manufacturer\": \"MTR\", \"MRP\": 60, \"Quantity\": 4, \"Ingredient_type\": \"vegetarian\", \"Manufacture_Date\": \"20/6/21\", \"Expiry_Date\": \"20/6/22\"}, \"5002006\": {\"Name\": \"Lux soap\", \"Net_Weight\": \"100g\", \"Batch_no\": \"L9A22\", \"Flavour\": \"Rose\", \"Manufacturer\": \"Unilever global company\", \"MRP\": \"23\", \"Quantity\": 45, \"Ingredient_type\": \"vegetarian\", \"Manufacture_Date\": \"7/2/21\", \"Expiry_Date\": \"6/8/23\"}, \"5002007\": {\"Name\": \"Aashirvaad Atta\", \"Net_Weight\": \"10kg\", \"Batch_no\": \"AS12H8\", \"Flavour\": \"W\", \"Manufacturer\": \"ITC Ltd\", \"MRP\": 490, \"Quantity\": 30, \"Ingredient_type\": \"vegetarian\", \"Manufacture_Date\": \"3/5/21\", \"Expiry_Date\": \"4/8/21\"}, \"5002008\": {\"Name\": \"Good Night Mosquito Coil\", \"Net_Weight\": \"10 N\", \"Batch_no\": \"B116\", \"Flavour\": \"Lavener Jasmine\", \"Manufacturer\": \"Goorej\", \"MRP\": 26, \"Quantity\": 41, \"Ingredient_type\": \"vegetarian\", \"Manufacture_Date\": \"21/5/21\", \"Expiry_Date\": \"2/2/22\"}, \"5002009\": {\"Name\": \"Ginger Garlic Paste\", \"Net_Weight\": \"200g\", \"Batch_no\": \"RRL2028\", \"Flavour\": \"Ginger Garlic\", \"Manufacturer\": \"Desi Kitchen\", \"MRP\": 58, \"Quantity\": 20, \"Ingredient_type\": \"vegetarian\", \"Manufacture_Date\": \"28/1/21\", \"Expiry_Date\": \"15/4/21\"}, \"5002010\": {\"Name\": \"Sugar\", \"Net_Weight\": \"1kg\", \"Batch_no\": \"B-03/A\", \"Flavour\": \"Almond\", \"Manufacturer\": \"Uttam sugar\", \"MRP\": 60, \"Quantity\": 10, \"Ingredient_type\": \"vegetarian\", \"Manufacture_Date\": \"26/09/20\", \"Expiry_Date\": \"27/08/21\"}, \"5002011\": {\"Name\": \"Oxylife creme bleach\", \"Net_Weight\": \"270g\", \"Batch_no\": \"BMO731\", \"Flavor\": \"creme\", \"Manufacturer\": \"Dabur Research\", \"MRP\": 82, \"Quantity\": 30, \"Ingredient_type\": \"Mineral Extract\", \"Manufacture_Date\": \"4/2/21\", \"Expiry_Date\": \"1/2/23\"}, \"5002012\": {\"Name\": \"Vescare\", \"Net_Weight\": \"50g\", \"Batch_no\": \"V0N32\", \"Flavour\": \"Ayurvedic\", \"Manufacturer\": \"Vestige\", \"MRP\": 150, \"Quantity\": 35, \"Ingredient_type\": \"Ayurbedic\", \"Manufacture_Date\": \"10/5/21\", \"Expiry_Date\": \"23/5/23\"}, \"5002013\": {\"Name\": \"I-Shakthi Iodised salt\", \"Net_Weight\": \"1kg\", \"Batch_no\": \"05\", \"Flavour\": \"iodised\", \"Manufacturer\": \"TATA\", \"MRP\": 17, \"Quantity\": 23, \"Ingredient_type\": \"vegetarian\", \"Manfacture_Date\": \"12/6/2021\", \"Expiry_Date\": \"29/4/2022\"}, \"5002014\": {\"Name\": \"Turmeric Powder\", \"Net_Weight\": \"200g\", \"Batch_no\": \"T1M3\", \"Flavour\": \"Turmeric\", \"Manufacturer\": \"Catch\", \"MRP\": 56, \"Quantity\": 26, \"Ingredient_type\": \"vegetarian\", \"Manufacture_Date\": \"11/3/21\", \"Expiry_Date\": \"21/12/21\"}}'"
            ]
          },
          "metadata": {},
          "execution_count": 32
        }
      ]
    },
    {
      "cell_type": "code",
      "metadata": {
        "id": "1KD8bIkb_jFE"
      },
      "source": [
        "fd=open(\"records.json\",'w')\n",
        "fd.write(js)\n",
        "fd.close()"
      ],
      "execution_count": 33,
      "outputs": []
    },
    {
      "cell_type": "code",
      "metadata": {
        "id": "YHb50LxM__Cz"
      },
      "source": [
        "fd=open(\"records.json\",'r')\n",
        "r=fd.read()\n",
        "fd.close()\n"
      ],
      "execution_count": 34,
      "outputs": []
    },
    {
      "cell_type": "code",
      "metadata": {
        "colab": {
          "base_uri": "https://localhost:8080/",
          "height": 171
        },
        "id": "fdkcwRjvAOcQ",
        "outputId": "438805e3-e84d-4d12-834d-fe0f595f44f0"
      },
      "source": [
        "r"
      ],
      "execution_count": 35,
      "outputs": [
        {
          "output_type": "execute_result",
          "data": {
            "application/vnd.google.colaboratory.intrinsic+json": {
              "type": "string"
            },
            "text/plain": [
              "'{\"5002001\": {\"Name\": \"Parle-G\", \"Net_Weight\": \"100g\", \"Batch_no\": \"16 B B\", \"Flavour\": \"mildly sweet and malty\", \"Manufacturer\": \"Parle\", \"MRP\": 10, \"Quantity\": 6, \"Ingredient_type\": \"vegetarian\", \"Manufacture_Date\": \"16/7/21\", \"Expiry_Date\": \"16/1/22\"}, \"5002002\": {\"Name\": \"Dairy Milk\", \"Net_Weight\": \"24.3g\", \"Batch_no\": \"A 51 C\", \"Flavour\": \"chocolate\", \"Manufacturer\": \"Cadbury\", \"MRP\": 20, \"Quantity\": 50, \"Ingredient_type\": \"vegetarian\", \"Manufacture_Date\": \"2/3/21\", \"Expiry_Date\": \"3/7/21\"}, \"5002003\": {\"Name\": \"Maggie\", \"Net_Weight\": \"70g\", \"Batch_no\": \"12GMA5\", \"Flavour\": \"Masala\", \"Manufacturer\": \"Maggie\", \"MRP\": 12, \"Quantity\": 23, \"Ingredient_type\": \"vegetarian\", \"Manufacture_Date\": \"5/8/21\", \"Expiry_Date\": \"4/12/21\"}, \"5002004\": {\"Name\": \"One One instant noodles\", \"Net_Weight\": \"100g\", \"Batch_no\": \"GM210805A\", \"Flavour\": \"Masala\", \"Manufacturer\": \"Goldiee\", \"MRP\": 10, \"Quantity\": 18, \"Ingredient_type\": \"vegetarian\", \"Manufacture_Date\": \"12/4/21\", \"Expiry_Date\": \"13/11/21\"}, \"5002005\": {\"Name\": \"Puliogare Powder\", \"Net_Weight\": \"100g\", \"Batch_no\": \"890A12\", \"Flavour\": \"Tamarind\", \"Manufacturer\": \"MTR\", \"MRP\": 60, \"Quantity\": 4, \"Ingredient_type\": \"vegetarian\", \"Manufacture_Date\": \"20/6/21\", \"Expiry_Date\": \"20/6/22\"}, \"5002006\": {\"Name\": \"Lux soap\", \"Net_Weight\": \"100g\", \"Batch_no\": \"L9A22\", \"Flavour\": \"Rose\", \"Manufacturer\": \"Unilever global company\", \"MRP\": \"23\", \"Quantity\": 45, \"Ingredient_type\": \"vegetarian\", \"Manufacture_Date\": \"7/2/21\", \"Expiry_Date\": \"6/8/23\"}, \"5002007\": {\"Name\": \"Aashirvaad Atta\", \"Net_Weight\": \"10kg\", \"Batch_no\": \"AS12H8\", \"Flavour\": \"W\", \"Manufacturer\": \"ITC Ltd\", \"MRP\": 490, \"Quantity\": 30, \"Ingredient_type\": \"vegetarian\", \"Manufacture_Date\": \"3/5/21\", \"Expiry_Date\": \"4/8/21\"}, \"5002008\": {\"Name\": \"Good Night Mosquito Coil\", \"Net_Weight\": \"10 N\", \"Batch_no\": \"B116\", \"Flavour\": \"Lavener Jasmine\", \"Manufacturer\": \"Goorej\", \"MRP\": 26, \"Quantity\": 41, \"Ingredient_type\": \"vegetarian\", \"Manufacture_Date\": \"21/5/21\", \"Expiry_Date\": \"2/2/22\"}, \"5002009\": {\"Name\": \"Ginger Garlic Paste\", \"Net_Weight\": \"200g\", \"Batch_no\": \"RRL2028\", \"Flavour\": \"Ginger Garlic\", \"Manufacturer\": \"Desi Kitchen\", \"MRP\": 58, \"Quantity\": 20, \"Ingredient_type\": \"vegetarian\", \"Manufacture_Date\": \"28/1/21\", \"Expiry_Date\": \"15/4/21\"}, \"5002010\": {\"Name\": \"Sugar\", \"Net_Weight\": \"1kg\", \"Batch_no\": \"B-03/A\", \"Flavour\": \"Almond\", \"Manufacturer\": \"Uttam sugar\", \"MRP\": 60, \"Quantity\": 10, \"Ingredient_type\": \"vegetarian\", \"Manufacture_Date\": \"26/09/20\", \"Expiry_Date\": \"27/08/21\"}, \"5002011\": {\"Name\": \"Oxylife creme bleach\", \"Net_Weight\": \"270g\", \"Batch_no\": \"BMO731\", \"Flavor\": \"creme\", \"Manufacturer\": \"Dabur Research\", \"MRP\": 82, \"Quantity\": 30, \"Ingredient_type\": \"Mineral Extract\", \"Manufacture_Date\": \"4/2/21\", \"Expiry_Date\": \"1/2/23\"}, \"5002012\": {\"Name\": \"Vescare\", \"Net_Weight\": \"50g\", \"Batch_no\": \"V0N32\", \"Flavour\": \"Ayurvedic\", \"Manufacturer\": \"Vestige\", \"MRP\": 150, \"Quantity\": 35, \"Ingredient_type\": \"Ayurbedic\", \"Manufacture_Date\": \"10/5/21\", \"Expiry_Date\": \"23/5/23\"}, \"5002013\": {\"Name\": \"I-Shakthi Iodised salt\", \"Net_Weight\": \"1kg\", \"Batch_no\": \"05\", \"Flavour\": \"iodised\", \"Manufacturer\": \"TATA\", \"MRP\": 17, \"Quantity\": 23, \"Ingredient_type\": \"vegetarian\", \"Manfacture_Date\": \"12/6/2021\", \"Expiry_Date\": \"29/4/2022\"}, \"5002014\": {\"Name\": \"Turmeric Powder\", \"Net_Weight\": \"200g\", \"Batch_no\": \"T1M3\", \"Flavour\": \"Turmeric\", \"Manufacturer\": \"Catch\", \"MRP\": 56, \"Quantity\": 26, \"Ingredient_type\": \"vegetarian\", \"Manufacture_Date\": \"11/3/21\", \"Expiry_Date\": \"21/12/21\"}}'"
            ]
          },
          "metadata": {},
          "execution_count": 35
        }
      ]
    },
    {
      "cell_type": "code",
      "metadata": {
        "colab": {
          "base_uri": "https://localhost:8080/"
        },
        "id": "6I1I9N9MAQ9F",
        "outputId": "9b6cb562-18a1-4508-dbd3-d0f3184906dd"
      },
      "source": [
        "type(r)"
      ],
      "execution_count": 36,
      "outputs": [
        {
          "output_type": "execute_result",
          "data": {
            "text/plain": [
              "str"
            ]
          },
          "metadata": {},
          "execution_count": 36
        }
      ]
    },
    {
      "cell_type": "code",
      "metadata": {
        "colab": {
          "base_uri": "https://localhost:8080/"
        },
        "id": "pJxsdVHCAzNU",
        "outputId": "40d34df5-b3a1-4cf4-b818-ae81b610bc68"
      },
      "source": [
        "len(r)"
      ],
      "execution_count": 37,
      "outputs": [
        {
          "output_type": "execute_result",
          "data": {
            "text/plain": [
              "3520"
            ]
          },
          "metadata": {},
          "execution_count": 37
        }
      ]
    },
    {
      "cell_type": "code",
      "metadata": {
        "id": "YFO6Dyu1A_Oz"
      },
      "source": [
        "records=json.loads(r)"
      ],
      "execution_count": 38,
      "outputs": []
    },
    {
      "cell_type": "code",
      "metadata": {
        "colab": {
          "base_uri": "https://localhost:8080/"
        },
        "id": "DK1oTSAiBNrD",
        "outputId": "6ac0f363-2f93-4a4b-a9b9-9d93213a720c"
      },
      "source": [
        "records"
      ],
      "execution_count": 39,
      "outputs": [
        {
          "output_type": "execute_result",
          "data": {
            "text/plain": [
              "{'5002001': {'Batch_no': '16 B B',\n",
              "  'Expiry_Date': '16/1/22',\n",
              "  'Flavour': 'mildly sweet and malty',\n",
              "  'Ingredient_type': 'vegetarian',\n",
              "  'MRP': 10,\n",
              "  'Manufacture_Date': '16/7/21',\n",
              "  'Manufacturer': 'Parle',\n",
              "  'Name': 'Parle-G',\n",
              "  'Net_Weight': '100g',\n",
              "  'Quantity': 6},\n",
              " '5002002': {'Batch_no': 'A 51 C',\n",
              "  'Expiry_Date': '3/7/21',\n",
              "  'Flavour': 'chocolate',\n",
              "  'Ingredient_type': 'vegetarian',\n",
              "  'MRP': 20,\n",
              "  'Manufacture_Date': '2/3/21',\n",
              "  'Manufacturer': 'Cadbury',\n",
              "  'Name': 'Dairy Milk',\n",
              "  'Net_Weight': '24.3g',\n",
              "  'Quantity': 50},\n",
              " '5002003': {'Batch_no': '12GMA5',\n",
              "  'Expiry_Date': '4/12/21',\n",
              "  'Flavour': 'Masala',\n",
              "  'Ingredient_type': 'vegetarian',\n",
              "  'MRP': 12,\n",
              "  'Manufacture_Date': '5/8/21',\n",
              "  'Manufacturer': 'Maggie',\n",
              "  'Name': 'Maggie',\n",
              "  'Net_Weight': '70g',\n",
              "  'Quantity': 23},\n",
              " '5002004': {'Batch_no': 'GM210805A',\n",
              "  'Expiry_Date': '13/11/21',\n",
              "  'Flavour': 'Masala',\n",
              "  'Ingredient_type': 'vegetarian',\n",
              "  'MRP': 10,\n",
              "  'Manufacture_Date': '12/4/21',\n",
              "  'Manufacturer': 'Goldiee',\n",
              "  'Name': 'One One instant noodles',\n",
              "  'Net_Weight': '100g',\n",
              "  'Quantity': 18},\n",
              " '5002005': {'Batch_no': '890A12',\n",
              "  'Expiry_Date': '20/6/22',\n",
              "  'Flavour': 'Tamarind',\n",
              "  'Ingredient_type': 'vegetarian',\n",
              "  'MRP': 60,\n",
              "  'Manufacture_Date': '20/6/21',\n",
              "  'Manufacturer': 'MTR',\n",
              "  'Name': 'Puliogare Powder',\n",
              "  'Net_Weight': '100g',\n",
              "  'Quantity': 4},\n",
              " '5002006': {'Batch_no': 'L9A22',\n",
              "  'Expiry_Date': '6/8/23',\n",
              "  'Flavour': 'Rose',\n",
              "  'Ingredient_type': 'vegetarian',\n",
              "  'MRP': '23',\n",
              "  'Manufacture_Date': '7/2/21',\n",
              "  'Manufacturer': 'Unilever global company',\n",
              "  'Name': 'Lux soap',\n",
              "  'Net_Weight': '100g',\n",
              "  'Quantity': 45},\n",
              " '5002007': {'Batch_no': 'AS12H8',\n",
              "  'Expiry_Date': '4/8/21',\n",
              "  'Flavour': 'W',\n",
              "  'Ingredient_type': 'vegetarian',\n",
              "  'MRP': 490,\n",
              "  'Manufacture_Date': '3/5/21',\n",
              "  'Manufacturer': 'ITC Ltd',\n",
              "  'Name': 'Aashirvaad Atta',\n",
              "  'Net_Weight': '10kg',\n",
              "  'Quantity': 30},\n",
              " '5002008': {'Batch_no': 'B116',\n",
              "  'Expiry_Date': '2/2/22',\n",
              "  'Flavour': 'Lavener Jasmine',\n",
              "  'Ingredient_type': 'vegetarian',\n",
              "  'MRP': 26,\n",
              "  'Manufacture_Date': '21/5/21',\n",
              "  'Manufacturer': 'Goorej',\n",
              "  'Name': 'Good Night Mosquito Coil',\n",
              "  'Net_Weight': '10 N',\n",
              "  'Quantity': 41},\n",
              " '5002009': {'Batch_no': 'RRL2028',\n",
              "  'Expiry_Date': '15/4/21',\n",
              "  'Flavour': 'Ginger Garlic',\n",
              "  'Ingredient_type': 'vegetarian',\n",
              "  'MRP': 58,\n",
              "  'Manufacture_Date': '28/1/21',\n",
              "  'Manufacturer': 'Desi Kitchen',\n",
              "  'Name': 'Ginger Garlic Paste',\n",
              "  'Net_Weight': '200g',\n",
              "  'Quantity': 20},\n",
              " '5002010': {'Batch_no': 'B-03/A',\n",
              "  'Expiry_Date': '27/08/21',\n",
              "  'Flavour': 'Almond',\n",
              "  'Ingredient_type': 'vegetarian',\n",
              "  'MRP': 60,\n",
              "  'Manufacture_Date': '26/09/20',\n",
              "  'Manufacturer': 'Uttam sugar',\n",
              "  'Name': 'Sugar',\n",
              "  'Net_Weight': '1kg',\n",
              "  'Quantity': 10},\n",
              " '5002011': {'Batch_no': 'BMO731',\n",
              "  'Expiry_Date': '1/2/23',\n",
              "  'Flavor': 'creme',\n",
              "  'Ingredient_type': 'Mineral Extract',\n",
              "  'MRP': 82,\n",
              "  'Manufacture_Date': '4/2/21',\n",
              "  'Manufacturer': 'Dabur Research',\n",
              "  'Name': 'Oxylife creme bleach',\n",
              "  'Net_Weight': '270g',\n",
              "  'Quantity': 30},\n",
              " '5002012': {'Batch_no': 'V0N32',\n",
              "  'Expiry_Date': '23/5/23',\n",
              "  'Flavour': 'Ayurvedic',\n",
              "  'Ingredient_type': 'Ayurbedic',\n",
              "  'MRP': 150,\n",
              "  'Manufacture_Date': '10/5/21',\n",
              "  'Manufacturer': 'Vestige',\n",
              "  'Name': 'Vescare',\n",
              "  'Net_Weight': '50g',\n",
              "  'Quantity': 35},\n",
              " '5002013': {'Batch_no': '05',\n",
              "  'Expiry_Date': '29/4/2022',\n",
              "  'Flavour': 'iodised',\n",
              "  'Ingredient_type': 'vegetarian',\n",
              "  'MRP': 17,\n",
              "  'Manfacture_Date': '12/6/2021',\n",
              "  'Manufacturer': 'TATA',\n",
              "  'Name': 'I-Shakthi Iodised salt',\n",
              "  'Net_Weight': '1kg',\n",
              "  'Quantity': 23},\n",
              " '5002014': {'Batch_no': 'T1M3',\n",
              "  'Expiry_Date': '21/12/21',\n",
              "  'Flavour': 'Turmeric',\n",
              "  'Ingredient_type': 'vegetarian',\n",
              "  'MRP': 56,\n",
              "  'Manufacture_Date': '11/3/21',\n",
              "  'Manufacturer': 'Catch',\n",
              "  'Name': 'Turmeric Powder',\n",
              "  'Net_Weight': '200g',\n",
              "  'Quantity': 26}}"
            ]
          },
          "metadata": {},
          "execution_count": 39
        }
      ]
    },
    {
      "cell_type": "code",
      "metadata": {
        "colab": {
          "base_uri": "https://localhost:8080/"
        },
        "id": "jZB6bxCABYuv",
        "outputId": "4b77d600-9307-4ae1-ecea-0117e46e94d4"
      },
      "source": [
        "prod_id=str(input(\"Enter  product id:\"))\n",
        "Name=str(input(\"Enter  name:\"))\n",
        "Net_Weight=str(input(\"Enter weight:\"))\n",
        "Batch_no=str(input(\"Enter branch no:\"))\n",
        "flavour=str(input(\"Enter flavour:\"))\n",
        "Manufacturer=str(input(\"Enter manufacturer:\"))\n",
        "MRP=int(input(\"Enter mrp:\"))\n",
        "Quantity=int(input(\"Enter quantity:\"))\n",
        "Ingredient_type=str(input(\"Enter ingredient type:\"))\n",
        "Manufacture_Date=str(input(\"Enter manufacture date:\"))\n",
        "Expiry_Date=str(input(\"Enter expiry date:\"))"
      ],
      "execution_count": 97,
      "outputs": [
        {
          "name": "stdout",
          "output_type": "stream",
          "text": [
            "Enter  product id:5002030\n",
            "Enter  name:Yippee noodles\n",
            "Enter weight:60g\n",
            "Enter branch no:ma43g\n",
            "Enter flavour:masala\n",
            "Enter manufacturer:Sunfeast\n",
            "Enter mrp:10\n",
            "Enter quantity:78\n",
            "Enter ingredient type:vegetarian\n",
            "Enter manufacture date:12/8/2020\n",
            "Enter expiry date:3/3/2021\n"
          ]
        }
      ]
    },
    {
      "cell_type": "code",
      "metadata": {
        "id": "tHXt6xjjF36e"
      },
      "source": [
        "records[prod_id]={'Name':Name,'Net_weight':Net_Weight,'Batch_no':Batch_no,'flavour':flavour,'Manufacturer':Manufacturer,'MRP':MRP,'Quantity':Quantity,\n",
        "          'Ingredient_type':Ingredient_type,'Manufacture_Date':Manufacture_Date,'Expiry_Date':Expiry_Date}"
      ],
      "execution_count": 98,
      "outputs": []
    },
    {
      "cell_type": "code",
      "metadata": {
        "colab": {
          "base_uri": "https://localhost:8080/"
        },
        "id": "G-SM9jUcRzX-",
        "outputId": "2ba3f79a-ef3f-47f8-c4b5-b5e9b2973d96"
      },
      "source": [
        "records"
      ],
      "execution_count": 99,
      "outputs": [
        {
          "output_type": "execute_result",
          "data": {
            "text/plain": [
              "{'5002001': {'Batch_no': '16 B B',\n",
              "  'Expiry_Date': '16/1/22',\n",
              "  'Flavour': 'mildly sweet and malty',\n",
              "  'Ingredient_type': 'vegetarian',\n",
              "  'MRP': 10,\n",
              "  'Manufacture_Date': '16/7/21',\n",
              "  'Manufacturer': 'Parle',\n",
              "  'Name': 'Parle-G',\n",
              "  'Net_Weight': '100g',\n",
              "  'Quantity': 6},\n",
              " '5002002': {'Batch_no': 'A 51 C',\n",
              "  'Expiry_Date': '3/7/21',\n",
              "  'Flavour': 'chocolate',\n",
              "  'Ingredient_type': 'vegetarian',\n",
              "  'MRP': 20,\n",
              "  'Manufacture_Date': '2/3/21',\n",
              "  'Manufacturer': 'Cadbury',\n",
              "  'Name': 'Dairy Milk',\n",
              "  'Net_Weight': '24.3g',\n",
              "  'Quantity': 50},\n",
              " '5002003': {'Batch_no': '12GMA5',\n",
              "  'Expiry_Date': '4/12/21',\n",
              "  'Flavour': 'Masala',\n",
              "  'Ingredient_type': 'vegetarian',\n",
              "  'MRP': 12,\n",
              "  'Manufacture_Date': '5/8/21',\n",
              "  'Manufacturer': 'Maggie',\n",
              "  'Name': 'Maggie',\n",
              "  'Net_Weight': '70g',\n",
              "  'Quantity': 23},\n",
              " '5002004': {'Batch_no': 'GM210805A',\n",
              "  'Expiry_Date': '13/11/21',\n",
              "  'Flavour': 'Masala',\n",
              "  'Ingredient_type': 'vegetarian',\n",
              "  'MRP': 10,\n",
              "  'Manufacture_Date': '12/4/21',\n",
              "  'Manufacturer': 'Goldiee',\n",
              "  'Name': 'One One instant noodles',\n",
              "  'Net_Weight': '100g',\n",
              "  'Quantity': 18},\n",
              " '5002005': {'Batch_no': '890A12',\n",
              "  'Expiry_Date': '20/6/22',\n",
              "  'Flavour': 'Tamarind',\n",
              "  'Ingredient_type': 'vegetarian',\n",
              "  'MRP': 60,\n",
              "  'Manufacture_Date': '20/6/21',\n",
              "  'Manufacturer': 'MTR',\n",
              "  'Name': 'Puliogare Powder',\n",
              "  'Net_Weight': '100g',\n",
              "  'Quantity': 4},\n",
              " '5002006': {'Batch_no': 'L9A22',\n",
              "  'Expiry_Date': '6/8/23',\n",
              "  'Flavour': 'Rose',\n",
              "  'Ingredient_type': 'vegetarian',\n",
              "  'MRP': '23',\n",
              "  'Manufacture_Date': '7/2/21',\n",
              "  'Manufacturer': 'Unilever global company',\n",
              "  'Name': 'Lux soap',\n",
              "  'Net_Weight': '100g',\n",
              "  'Quantity': 45},\n",
              " '5002007': {'Batch_no': 'AS12H8',\n",
              "  'Expiry_Date': '4/8/21',\n",
              "  'Flavour': 'W',\n",
              "  'Ingredient_type': 'vegetarian',\n",
              "  'MRP': 490,\n",
              "  'Manufacture_Date': '3/5/21',\n",
              "  'Manufacturer': 'ITC Ltd',\n",
              "  'Name': 'Aashirvaad Atta',\n",
              "  'Net_Weight': '10kg',\n",
              "  'Quantity': 30},\n",
              " '5002008': {'Batch_no': 'B116',\n",
              "  'Expiry_Date': '2/2/22',\n",
              "  'Flavour': 'Lavener Jasmine',\n",
              "  'Ingredient_type': 'vegetarian',\n",
              "  'MRP': 26,\n",
              "  'Manufacture_Date': '21/5/21',\n",
              "  'Manufacturer': 'Goorej',\n",
              "  'Name': 'Good Night Mosquito Coil',\n",
              "  'Net_Weight': '10 N',\n",
              "  'Quantity': 41},\n",
              " '5002009': {'Batch_no': 'RRL2028',\n",
              "  'Expiry_Date': '15/4/21',\n",
              "  'Flavour': 'Ginger Garlic',\n",
              "  'Ingredient_type': 'vegetarian',\n",
              "  'MRP': 58,\n",
              "  'Manufacture_Date': '28/1/21',\n",
              "  'Manufacturer': 'Desi Kitchen',\n",
              "  'Name': 'Ginger Garlic Paste',\n",
              "  'Net_Weight': '200g',\n",
              "  'Quantity': 20},\n",
              " '5002010': {'Batch_no': 'B-03/A',\n",
              "  'Expiry_Date': '27/08/21',\n",
              "  'Flavour': 'Almond',\n",
              "  'Ingredient_type': 'vegetarian',\n",
              "  'MRP': 60,\n",
              "  'Manufacture_Date': '26/09/20',\n",
              "  'Manufacturer': 'Uttam sugar',\n",
              "  'Name': 'Sugar',\n",
              "  'Net_Weight': '1kg',\n",
              "  'Quantity': 10},\n",
              " '5002011': {'Batch_no': 'BMO731',\n",
              "  'Expiry_Date': '1/2/23',\n",
              "  'Flavor': 'creme',\n",
              "  'Ingredient_type': 'Mineral Extract',\n",
              "  'MRP': 82,\n",
              "  'Manufacture_Date': '4/2/21',\n",
              "  'Manufacturer': 'Dabur Research',\n",
              "  'Name': 'Oxylife creme bleach',\n",
              "  'Net_Weight': '270g',\n",
              "  'Quantity': 30},\n",
              " '5002012': {'Batch_no': 'V0N32',\n",
              "  'Expiry_Date': '23/5/23',\n",
              "  'Flavour': 'Ayurvedic',\n",
              "  'Ingredient_type': 'Ayurbedic',\n",
              "  'MRP': 150,\n",
              "  'Manufacture_Date': '10/5/21',\n",
              "  'Manufacturer': 'Vestige',\n",
              "  'Name': 'Vescare',\n",
              "  'Net_Weight': '50g',\n",
              "  'Quantity': 35},\n",
              " '5002013': {'Batch_no': '05',\n",
              "  'Expiry_Date': '29/4/2022',\n",
              "  'Flavour': 'iodised',\n",
              "  'Ingredient_type': 'vegetarian',\n",
              "  'MRP': 17,\n",
              "  'Manfacture_Date': '12/6/2021',\n",
              "  'Manufacturer': 'TATA',\n",
              "  'Name': 'I-Shakthi Iodised salt',\n",
              "  'Net_Weight': '1kg',\n",
              "  'Quantity': 23},\n",
              " '5002014': {'Batch_no': 'T1M3',\n",
              "  'Expiry_Date': '21/12/21',\n",
              "  'Flavour': 'Turmeric',\n",
              "  'Ingredient_type': 'vegetarian',\n",
              "  'MRP': 56,\n",
              "  'Manufacture_Date': '11/3/21',\n",
              "  'Manufacturer': 'Catch',\n",
              "  'Name': 'Turmeric Powder',\n",
              "  'Net_Weight': '200g',\n",
              "  'Quantity': 26},\n",
              " '5002015': {'Batch_no': 'MKG-21',\n",
              "  'Expiry_Date': '23/8/21',\n",
              "  'Ingredient_type': 'vegetarian',\n",
              "  'MRP': 45,\n",
              "  'Manufacture_Date': '2/4/21',\n",
              "  'Manufacturer': 'Everin',\n",
              "  'Name': 'Macaroni',\n",
              "  'Net_weight': '300gm',\n",
              "  'Quantity': 50,\n",
              "  'flavour': 'Semolina'},\n",
              " '5002016': {'Batch_no': 'P6-MW',\n",
              "  'Expiry_Date': '31/12/21',\n",
              "  'Ingredient_type': 'nonvegetarian',\n",
              "  'MRP': 20,\n",
              "  'Manufacture_Date': '12/8/21',\n",
              "  'Manufacturer': 'Parle',\n",
              "  'Name': 'Choco cake',\n",
              "  'Net_weight': '100g',\n",
              "  'Quantity': 43,\n",
              "  'flavour': 'Chocolate'},\n",
              " '5002017': {'Batch_no': 'S79K',\n",
              "  'Expiry_Date': '24/12/21',\n",
              "  'Ingredient_type': 'vegetarian',\n",
              "  'MRP': 78,\n",
              "  'Manufacture_Date': '12/4/21',\n",
              "  'Manufacturer': 'MTR',\n",
              "  'Name': 'SoyaSauce',\n",
              "  'Net_weight': '13',\n",
              "  'Quantity': 35,\n",
              "  'flavour': 'Soya'},\n",
              " '5002018': {'Batch_no': 'HI8MY',\n",
              "  'Expiry_Date': '25/8/2022',\n",
              "  'Ingredient_type': 'Vegetarian',\n",
              "  'MRP': 124,\n",
              "  'Manufacture_Date': '26/9/2021',\n",
              "  'Manufacturer': 'Himalaya',\n",
              "  'Name': 'Himalaya Shampoo',\n",
              "  'Net_weight': '100ml',\n",
              "  'Quantity': 31,\n",
              "  'flavour': 'Bringaraj'},\n",
              " '5002019': {'Batch_no': 'J6C',\n",
              "  'Expiry_Date': '12/6/2022',\n",
              "  'Ingredient_type': 'vegetarian',\n",
              "  'MRP': 40,\n",
              "  'Manufacture_Date': '23/7/2021',\n",
              "  'Manufacturer': 'Sprite',\n",
              "  'Name': 'Sprite juice',\n",
              "  'Net_weight': '150ml',\n",
              "  'Quantity': 32,\n",
              "  'flavour': 'Lemon'},\n",
              " '5002020': {'Batch_no': 'dg4',\n",
              "  'Expiry_Date': '18/38/21',\n",
              "  'Ingredient_type': 'vegetarian',\n",
              "  'MRP': 20,\n",
              "  'Manufacture_Date': '27/4/2021',\n",
              "  'Manufacturer': 'Good day',\n",
              "  'Name': 'Good day biscuit',\n",
              "  'Net_weight': '100g',\n",
              "  'Quantity': 12,\n",
              "  'flavour': 'chocolate'},\n",
              " '5002021': {'Batch_no': 'C56K',\n",
              "  'Expiry_Date': '23/3/2022',\n",
              "  'Ingredient_type': 'vegetarian',\n",
              "  'MRP': 75,\n",
              "  'Manufacture_Date': '18/5/2021',\n",
              "  'Manufacturer': 'Catch',\n",
              "  'Name': 'Chilli Powder',\n",
              "  'Net_weight': '100g',\n",
              "  'Quantity': 38,\n",
              "  'flavour': 'Spicy'},\n",
              " '5002022': {'Batch_no': 'TM3j',\n",
              "  'Expiry_Date': '25/12/2021',\n",
              "  'Ingredient_type': 'nonvegetarian',\n",
              "  'MRP': 45,\n",
              "  'Manufacture_Date': '27/4/2021',\n",
              "  'Manufacturer': 'Teju',\n",
              "  'Name': 'Teju Kebab Masala',\n",
              "  'Net_weight': '200g',\n",
              "  'Quantity': 45,\n",
              "  'flavour': 'Spicy'},\n",
              " '5002023': {'Batch_no': 'TM4S',\n",
              "  'Expiry_Date': '21/7/2022',\n",
              "  'Ingredient_type': 'vegetarian',\n",
              "  'MRP': 250,\n",
              "  'Manufacture_Date': '19/9/2021',\n",
              "  'Manufacturer': 'Red Label',\n",
              "  'Name': 'Red Label',\n",
              "  'Net_weight': '300g',\n",
              "  'Quantity': 15,\n",
              "  'flavour': 'Masala'},\n",
              " '5002024': {'Batch_no': 'CO6DS',\n",
              "  'Expiry_Date': '17/7/2022',\n",
              "  'Ingredient_type': 'vegetarian',\n",
              "  'MRP': 150,\n",
              "  'Manufacture_Date': '23/8/2021',\n",
              "  'Manufacturer': 'Bru',\n",
              "  'Name': 'Bru Coffee Powder',\n",
              "  'Net_weight': '200g',\n",
              "  'Quantity': 38,\n",
              "  'flavour': 'coffee'},\n",
              " '5002025': {'Batch_no': 'SX2j',\n",
              "  'Expiry_Date': '14/1/2023',\n",
              "  'Ingredient_type': 'vegetarian',\n",
              "  'MRP': 145,\n",
              "  'Manufacture_Date': '12/12/2021',\n",
              "  'Manufacturer': 'Surf',\n",
              "  'Name': 'Surf Exel',\n",
              "  'Net_weight': '400g',\n",
              "  'Quantity': 21,\n",
              "  'flavour': 'Lavender'},\n",
              " '5002026': {'Batch_no': 'cmF5',\n",
              "  'Expiry_Date': '23/8/2021',\n",
              "  'Ingredient_type': 'vegetarian',\n",
              "  'MRP': 200,\n",
              "  'Manufacture_Date': '24/8/2020',\n",
              "  'Manufacturer': 'Comfort ',\n",
              "  'Name': 'Comfort',\n",
              "  'Net_weight': '25',\n",
              "  'Quantity': 43,\n",
              "  'flavour': 'Jasmine'},\n",
              " '5002027': {'Batch_no': 'da6HJ',\n",
              "  'Expiry_Date': '30/9/2021',\n",
              "  'Ingredient_type': 'vegetarian',\n",
              "  'MRP': 125,\n",
              "  'Manufacture_Date': '12/4/2021',\n",
              "  'Manufacturer': 'Dove',\n",
              "  'Name': 'Dove soap',\n",
              "  'Net_weight': '76g',\n",
              "  'Quantity': 28,\n",
              "  'flavour': 'creamy white'},\n",
              " '5002028': {'Batch_no': 'wsqso1',\n",
              "  'Expiry_Date': '12/6/2021',\n",
              "  'Ingredient_type': 'vegetarian',\n",
              "  'MRP': 78,\n",
              "  'Manufacture_Date': '25/5/2020',\n",
              "  'Manufacturer': 'Chandrika',\n",
              "  'Name': 'Chandrika soap',\n",
              "  'Net_weight': '100g',\n",
              "  'Quantity': 50,\n",
              "  'flavour': 'chandana'},\n",
              " '5002029': {'Batch_no': 'swcho4',\n",
              "  'Expiry_Date': '22/7/21',\n",
              "  'Ingredient_type': 'vegetarian',\n",
              "  'MRP': 60,\n",
              "  'Manufacture_Date': '13/4/21',\n",
              "  'Manufacturer': 'Sunfeast',\n",
              "  'Name': 'Dark Fantasy',\n",
              "  'Net_weight': '250g',\n",
              "  'Quantity': 43,\n",
              "  'flavour': 'chocolate'},\n",
              " '5002030': {'Batch_no': 'ma43g',\n",
              "  'Expiry_Date': '3/3/2021',\n",
              "  'Ingredient_type': 'vegetarian',\n",
              "  'MRP': 10,\n",
              "  'Manufacture_Date': '12/8/2020',\n",
              "  'Manufacturer': 'Sunfeast',\n",
              "  'Name': 'Yippee noodles',\n",
              "  'Net_weight': '60g',\n",
              "  'Quantity': 78,\n",
              "  'flavour': 'masala'}}"
            ]
          },
          "metadata": {},
          "execution_count": 99
        }
      ]
    },
    {
      "cell_type": "code",
      "metadata": {
        "id": "vM1M3ZPvToY6"
      },
      "source": [
        "js=json.dumps(records)\n",
        "fd=open(\"records.json\",'w')\n",
        "fd.write(js)\n",
        "fd.close()\n"
      ],
      "execution_count": 100,
      "outputs": []
    },
    {
      "cell_type": "code",
      "metadata": {
        "colab": {
          "base_uri": "https://localhost:8080/",
          "height": 171
        },
        "id": "O7r2OD0FmnAL",
        "outputId": "746b2192-8b54-4e0a-e5a7-5c95983d9dee"
      },
      "source": [
        "fd=open(\"records.json\",'r')\n",
        "fd.read()"
      ],
      "execution_count": 101,
      "outputs": [
        {
          "output_type": "execute_result",
          "data": {
            "application/vnd.google.colaboratory.intrinsic+json": {
              "type": "string"
            },
            "text/plain": [
              "'{\"5002001\": {\"Name\": \"Parle-G\", \"Net_Weight\": \"100g\", \"Batch_no\": \"16 B B\", \"Flavour\": \"mildly sweet and malty\", \"Manufacturer\": \"Parle\", \"MRP\": 10, \"Quantity\": 6, \"Ingredient_type\": \"vegetarian\", \"Manufacture_Date\": \"16/7/21\", \"Expiry_Date\": \"16/1/22\"}, \"5002002\": {\"Name\": \"Dairy Milk\", \"Net_Weight\": \"24.3g\", \"Batch_no\": \"A 51 C\", \"Flavour\": \"chocolate\", \"Manufacturer\": \"Cadbury\", \"MRP\": 20, \"Quantity\": 50, \"Ingredient_type\": \"vegetarian\", \"Manufacture_Date\": \"2/3/21\", \"Expiry_Date\": \"3/7/21\"}, \"5002003\": {\"Name\": \"Maggie\", \"Net_Weight\": \"70g\", \"Batch_no\": \"12GMA5\", \"Flavour\": \"Masala\", \"Manufacturer\": \"Maggie\", \"MRP\": 12, \"Quantity\": 23, \"Ingredient_type\": \"vegetarian\", \"Manufacture_Date\": \"5/8/21\", \"Expiry_Date\": \"4/12/21\"}, \"5002004\": {\"Name\": \"One One instant noodles\", \"Net_Weight\": \"100g\", \"Batch_no\": \"GM210805A\", \"Flavour\": \"Masala\", \"Manufacturer\": \"Goldiee\", \"MRP\": 10, \"Quantity\": 18, \"Ingredient_type\": \"vegetarian\", \"Manufacture_Date\": \"12/4/21\", \"Expiry_Date\": \"13/11/21\"}, \"5002005\": {\"Name\": \"Puliogare Powder\", \"Net_Weight\": \"100g\", \"Batch_no\": \"890A12\", \"Flavour\": \"Tamarind\", \"Manufacturer\": \"MTR\", \"MRP\": 60, \"Quantity\": 4, \"Ingredient_type\": \"vegetarian\", \"Manufacture_Date\": \"20/6/21\", \"Expiry_Date\": \"20/6/22\"}, \"5002006\": {\"Name\": \"Lux soap\", \"Net_Weight\": \"100g\", \"Batch_no\": \"L9A22\", \"Flavour\": \"Rose\", \"Manufacturer\": \"Unilever global company\", \"MRP\": \"23\", \"Quantity\": 45, \"Ingredient_type\": \"vegetarian\", \"Manufacture_Date\": \"7/2/21\", \"Expiry_Date\": \"6/8/23\"}, \"5002007\": {\"Name\": \"Aashirvaad Atta\", \"Net_Weight\": \"10kg\", \"Batch_no\": \"AS12H8\", \"Flavour\": \"W\", \"Manufacturer\": \"ITC Ltd\", \"MRP\": 490, \"Quantity\": 30, \"Ingredient_type\": \"vegetarian\", \"Manufacture_Date\": \"3/5/21\", \"Expiry_Date\": \"4/8/21\"}, \"5002008\": {\"Name\": \"Good Night Mosquito Coil\", \"Net_Weight\": \"10 N\", \"Batch_no\": \"B116\", \"Flavour\": \"Lavener Jasmine\", \"Manufacturer\": \"Goorej\", \"MRP\": 26, \"Quantity\": 41, \"Ingredient_type\": \"vegetarian\", \"Manufacture_Date\": \"21/5/21\", \"Expiry_Date\": \"2/2/22\"}, \"5002009\": {\"Name\": \"Ginger Garlic Paste\", \"Net_Weight\": \"200g\", \"Batch_no\": \"RRL2028\", \"Flavour\": \"Ginger Garlic\", \"Manufacturer\": \"Desi Kitchen\", \"MRP\": 58, \"Quantity\": 20, \"Ingredient_type\": \"vegetarian\", \"Manufacture_Date\": \"28/1/21\", \"Expiry_Date\": \"15/4/21\"}, \"5002010\": {\"Name\": \"Sugar\", \"Net_Weight\": \"1kg\", \"Batch_no\": \"B-03/A\", \"Flavour\": \"Almond\", \"Manufacturer\": \"Uttam sugar\", \"MRP\": 60, \"Quantity\": 10, \"Ingredient_type\": \"vegetarian\", \"Manufacture_Date\": \"26/09/20\", \"Expiry_Date\": \"27/08/21\"}, \"5002011\": {\"Name\": \"Oxylife creme bleach\", \"Net_Weight\": \"270g\", \"Batch_no\": \"BMO731\", \"Flavor\": \"creme\", \"Manufacturer\": \"Dabur Research\", \"MRP\": 82, \"Quantity\": 30, \"Ingredient_type\": \"Mineral Extract\", \"Manufacture_Date\": \"4/2/21\", \"Expiry_Date\": \"1/2/23\"}, \"5002012\": {\"Name\": \"Vescare\", \"Net_Weight\": \"50g\", \"Batch_no\": \"V0N32\", \"Flavour\": \"Ayurvedic\", \"Manufacturer\": \"Vestige\", \"MRP\": 150, \"Quantity\": 35, \"Ingredient_type\": \"Ayurbedic\", \"Manufacture_Date\": \"10/5/21\", \"Expiry_Date\": \"23/5/23\"}, \"5002013\": {\"Name\": \"I-Shakthi Iodised salt\", \"Net_Weight\": \"1kg\", \"Batch_no\": \"05\", \"Flavour\": \"iodised\", \"Manufacturer\": \"TATA\", \"MRP\": 17, \"Quantity\": 23, \"Ingredient_type\": \"vegetarian\", \"Manfacture_Date\": \"12/6/2021\", \"Expiry_Date\": \"29/4/2022\"}, \"5002014\": {\"Name\": \"Turmeric Powder\", \"Net_Weight\": \"200g\", \"Batch_no\": \"T1M3\", \"Flavour\": \"Turmeric\", \"Manufacturer\": \"Catch\", \"MRP\": 56, \"Quantity\": 26, \"Ingredient_type\": \"vegetarian\", \"Manufacture_Date\": \"11/3/21\", \"Expiry_Date\": \"21/12/21\"}, \"5002015\": {\"Name\": \"Macaroni\", \"Net_weight\": \"300gm\", \"Batch_no\": \"MKG-21\", \"flavour\": \"Semolina\", \"Manufacturer\": \"Everin\", \"MRP\": 45, \"Quantity\": 50, \"Ingredient_type\": \"vegetarian\", \"Manufacture_Date\": \"2/4/21\", \"Expiry_Date\": \"23/8/21\"}, \"5002016\": {\"Name\": \"Choco cake\", \"Net_weight\": \"100g\", \"Batch_no\": \"P6-MW\", \"flavour\": \"Chocolate\", \"Manufacturer\": \"Parle\", \"MRP\": 20, \"Quantity\": 43, \"Ingredient_type\": \"nonvegetarian\", \"Manufacture_Date\": \"12/8/21\", \"Expiry_Date\": \"31/12/21\"}, \"5002017\": {\"Name\": \"SoyaSauce\", \"Net_weight\": \"13\", \"Batch_no\": \"S79K\", \"flavour\": \"Soya\", \"Manufacturer\": \"MTR\", \"MRP\": 78, \"Quantity\": 35, \"Ingredient_type\": \"vegetarian\", \"Manufacture_Date\": \"12/4/21\", \"Expiry_Date\": \"24/12/21\"}, \"5002018\": {\"Name\": \"Himalaya Shampoo\", \"Net_weight\": \"100ml\", \"Batch_no\": \"HI8MY\", \"flavour\": \"Bringaraj\", \"Manufacturer\": \"Himalaya\", \"MRP\": 124, \"Quantity\": 31, \"Ingredient_type\": \"Vegetarian\", \"Manufacture_Date\": \"26/9/2021\", \"Expiry_Date\": \"25/8/2022\"}, \"5002019\": {\"Name\": \"Sprite juice\", \"Net_weight\": \"150ml\", \"Batch_no\": \"J6C\", \"flavour\": \"Lemon\", \"Manufacturer\": \"Sprite\", \"MRP\": 40, \"Quantity\": 32, \"Ingredient_type\": \"vegetarian\", \"Manufacture_Date\": \"23/7/2021\", \"Expiry_Date\": \"12/6/2022\"}, \"5002020\": {\"Name\": \"Good day biscuit\", \"Net_weight\": \"100g\", \"Batch_no\": \"dg4\", \"flavour\": \"chocolate\", \"Manufacturer\": \"Good day\", \"MRP\": 20, \"Quantity\": 12, \"Ingredient_type\": \"vegetarian\", \"Manufacture_Date\": \"27/4/2021\", \"Expiry_Date\": \"18/38/21\"}, \"5002021\": {\"Name\": \"Chilli Powder\", \"Net_weight\": \"100g\", \"Batch_no\": \"C56K\", \"flavour\": \"Spicy\", \"Manufacturer\": \"Catch\", \"MRP\": 75, \"Quantity\": 38, \"Ingredient_type\": \"vegetarian\", \"Manufacture_Date\": \"18/5/2021\", \"Expiry_Date\": \"23/3/2022\"}, \"5002022\": {\"Name\": \"Teju Kebab Masala\", \"Net_weight\": \"200g\", \"Batch_no\": \"TM3j\", \"flavour\": \"Spicy\", \"Manufacturer\": \"Teju\", \"MRP\": 45, \"Quantity\": 45, \"Ingredient_type\": \"nonvegetarian\", \"Manufacture_Date\": \"27/4/2021\", \"Expiry_Date\": \"25/12/2021\"}, \"5002023\": {\"Name\": \"Red Label\", \"Net_weight\": \"300g\", \"Batch_no\": \"TM4S\", \"flavour\": \"Masala\", \"Manufacturer\": \"Red Label\", \"MRP\": 250, \"Quantity\": 15, \"Ingredient_type\": \"vegetarian\", \"Manufacture_Date\": \"19/9/2021\", \"Expiry_Date\": \"21/7/2022\"}, \"5002024\": {\"Name\": \"Bru Coffee Powder\", \"Net_weight\": \"200g\", \"Batch_no\": \"CO6DS\", \"flavour\": \"coffee\", \"Manufacturer\": \"Bru\", \"MRP\": 150, \"Quantity\": 38, \"Ingredient_type\": \"vegetarian\", \"Manufacture_Date\": \"23/8/2021\", \"Expiry_Date\": \"17/7/2022\"}, \"5002025\": {\"Name\": \"Surf Exel\", \"Net_weight\": \"400g\", \"Batch_no\": \"SX2j\", \"flavour\": \"Lavender\", \"Manufacturer\": \"Surf\", \"MRP\": 145, \"Quantity\": 21, \"Ingredient_type\": \"vegetarian\", \"Manufacture_Date\": \"12/12/2021\", \"Expiry_Date\": \"14/1/2023\"}, \"5002026\": {\"Name\": \"Comfort\", \"Net_weight\": \"25\", \"Batch_no\": \"cmF5\", \"flavour\": \"Jasmine\", \"Manufacturer\": \"Comfort \", \"MRP\": 200, \"Quantity\": 43, \"Ingredient_type\": \"vegetarian\", \"Manufacture_Date\": \"24/8/2020\", \"Expiry_Date\": \"23/8/2021\"}, \"5002027\": {\"Name\": \"Dove soap\", \"Net_weight\": \"76g\", \"Batch_no\": \"da6HJ\", \"flavour\": \"creamy white\", \"Manufacturer\": \"Dove\", \"MRP\": 125, \"Quantity\": 28, \"Ingredient_type\": \"vegetarian\", \"Manufacture_Date\": \"12/4/2021\", \"Expiry_Date\": \"30/9/2021\"}, \"5002028\": {\"Name\": \"Chandrika soap\", \"Net_weight\": \"100g\", \"Batch_no\": \"wsqso1\", \"flavour\": \"chandana\", \"Manufacturer\": \"Chandrika\", \"MRP\": 78, \"Quantity\": 50, \"Ingredient_type\": \"vegetarian\", \"Manufacture_Date\": \"25/5/2020\", \"Expiry_Date\": \"12/6/2021\"}, \"5002029\": {\"Name\": \"Dark Fantasy\", \"Net_weight\": \"250g\", \"Batch_no\": \"swcho4\", \"flavour\": \"chocolate\", \"Manufacturer\": \"Sunfeast\", \"MRP\": 60, \"Quantity\": 43, \"Ingredient_type\": \"vegetarian\", \"Manufacture_Date\": \"13/4/21\", \"Expiry_Date\": \"22/7/21\"}, \"5002030\": {\"Name\": \"Yippee noodles\", \"Net_weight\": \"60g\", \"Batch_no\": \"ma43g\", \"flavour\": \"masala\", \"Manufacturer\": \"Sunfeast\", \"MRP\": 10, \"Quantity\": 78, \"Ingredient_type\": \"vegetarian\", \"Manufacture_Date\": \"12/8/2020\", \"Expiry_Date\": \"3/3/2021\"}}'"
            ]
          },
          "metadata": {},
          "execution_count": 101
        }
      ]
    },
    {
      "cell_type": "code",
      "metadata": {
        "id": "zvmPxq4ym72p"
      },
      "source": [
        ""
      ],
      "execution_count": null,
      "outputs": []
    }
  ]
}